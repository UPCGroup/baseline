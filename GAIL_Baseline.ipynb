{
 "cells": [
  {
   "cell_type": "markdown",
   "metadata": {},
   "source": [
    "# 代码实践\n",
    "\n",
    "## Step 1.生成专家数据"
   ]
  },
  {
   "cell_type": "code",
   "execution_count": 31,
   "metadata": {
    "ExecuteTime": {
     "end_time": "2023-08-30T03:42:12.799277400Z",
     "start_time": "2023-08-30T03:42:12.689567700Z"
    }
   },
   "outputs": [],
   "source": [
    "import random\n",
    "\n",
    "import gym\n",
    "import torch as th\n",
    "import numpy as np\n",
    "import matplotlib.pyplot as plt\n",
    "\n",
    "from torch import nn\n",
    "from tqdm import tqdm\n",
    "from torch.nn import functional as F"
   ]
  },
  {
   "cell_type": "code",
   "execution_count": 32,
   "metadata": {
    "ExecuteTime": {
     "end_time": "2023-08-30T03:42:13.337833900Z",
     "start_time": "2023-08-30T03:42:13.254058800Z"
    }
   },
   "outputs": [],
   "source": [
    "class PolicyNet(nn.Module):\n",
    "\tdef __init__(self, state_dim, hidden_dim, action_dim):\n",
    "\t\tsuper(PolicyNet, self).__init__()\n",
    "\t\tself.fc1 = nn.Linear(state_dim, hidden_dim)\n",
    "\t\tself.fc2 = nn.Linear(hidden_dim, action_dim)\n",
    "\n",
    "\tdef forward(self, x):\n",
    "\t\tx = F.relu(self.fc1(x))\n",
    "\t\treturn F.softmax(self.fc2(x), dim=1)"
   ]
  },
  {
   "cell_type": "code",
   "execution_count": 33,
   "metadata": {
    "ExecuteTime": {
     "end_time": "2023-08-30T03:42:13.865675400Z",
     "start_time": "2023-08-30T03:42:13.600753300Z"
    }
   },
   "outputs": [],
   "source": [
    "class ValueNet(nn.Module):\n",
    "\tdef __init__(self, state_dim, hidden_dim):\n",
    "\t\tsuper(ValueNet, self).__init__()\n",
    "\t\tself.fc1 = nn.Linear(state_dim, hidden_dim)\n",
    "\t\tself.fc2 = nn.Linear(hidden_dim, 1)\n",
    "\n",
    "\tdef forward(self, x):\n",
    "\t\tx = F.relu(self.fc1(x))\n",
    "\t\treturn self.fc2(x)"
   ]
  },
  {
   "cell_type": "code",
   "execution_count": 34,
   "metadata": {
    "ExecuteTime": {
     "end_time": "2023-08-30T03:42:13.996325Z",
     "start_time": "2023-08-30T03:42:13.860687900Z"
    }
   },
   "outputs": [],
   "source": [
    "def compute_advantage(gamma, lambda_, td_delta):\n",
    "\ttd_delta = td_delta.cpu().detach().numpy()\n",
    "\tadvantage_list = []\n",
    "\tadvantage = 0.0\n",
    "\tfor delta in td_delta[::-1]:\n",
    "\t\tadvantage = gamma * lambda_ * advantage + delta\n",
    "\t\tadvantage_list.append(advantage)\n",
    "\tadvantage_list.reverse()\n",
    "\treturn th.tensor(advantage_list, dtype=th.float)"
   ]
  },
  {
   "cell_type": "code",
   "execution_count": 35,
   "metadata": {
    "ExecuteTime": {
     "end_time": "2023-08-30T03:42:14.656777400Z",
     "start_time": "2023-08-30T03:42:14.594344200Z"
    }
   },
   "outputs": [],
   "source": [
    "class PPO:\n",
    "\t\"\"\" PPO算法，采用截断方式 \"\"\"\n",
    "\n",
    "\tdef __init__(self, state_dim, hidden_dim, action_dim, actor_lr, critic_lr, lambda_, epochs, eps, gamma):\n",
    "\t\tself.actor = PolicyNet(state_dim, hidden_dim, action_dim).to(device)\n",
    "\t\tself.critic = ValueNet(state_dim, hidden_dim).to(device)\n",
    "\t\tself.actor_optimizer = th.optim.Adam(self.actor.parameters(), lr=actor_lr)\n",
    "\t\tself.critic_optimizer = th.optim.Adam(self.critic.parameters(), lr=critic_lr)\n",
    "\t\tself.gamma = gamma\n",
    "\t\tself.lambda_ = lambda_\n",
    "\t\tself.epochs = epochs\n",
    "\t\tself.eps = eps\n",
    "\n",
    "\tdef take_action(self, state):\n",
    "\t\tstate = th.tensor([state], dtype=th.float).to(device)\n",
    "\t\tprobs = self.actor(state)\n",
    "\t\taction_dist = th.distributions.Categorical(probs)\n",
    "\t\taction = action_dist.sample()\n",
    "\t\treturn action.item()\n",
    "\n",
    "\tdef update(self, transition_dict):\n",
    "\t\tstates = th.tensor(transition_dict[\"states\"], dtype=th.float).to(device)\n",
    "\t\tactions = th.tensor(transition_dict[\"actions\"], dtype=th.float).view(-1, 1).to(device)\n",
    "\t\trewards = th.tensor(transition_dict[\"rewards\"], dtype=th.float).view(-1, 1).to(device)\n",
    "\t\tnext_states = th.tensor(transition_dict[\"next_states\"], dtype=th.float).to(device)\n",
    "\t\tdones = th.tensor(transition_dict[\"dones\"], dtype=th.float).view(-1, 1).to(device)\n",
    "\t\ttd_target = rewards + self.gamma * self.critic(next_states) * (1 - dones).to(device)\n",
    "\t\ttd_delta = td_target - self.critic(states)\n",
    "\t\tadvantage = compute_advantage(self.gamma, self.lambda_, td_delta).to(device)\n",
    "\t\told_log_probs = th.log(self.actor(states).gather(1, actions.type(th.int64))).detach()\n",
    "\n",
    "\t\tfor _ in range(self.epochs):\n",
    "\t\t\tlog_probs = th.log(self.actor(states).gather(1, actions.type(th.int64)))\n",
    "\t\t\tratio = th.exp(log_probs - old_log_probs)\n",
    "\t\t\tsurr1 = ratio * advantage\n",
    "\t\t\tsurr2 = th.clamp(ratio, 1 - self.eps, 1 + self.eps) * advantage\n",
    "\t\t\tactor_loss = th.mean(-th.min(surr1, surr2))\n",
    "\t\t\tcritic_loss = th.mean(F.mse_loss(self.critic(states), td_target.detach()))\n",
    "\t\t\tself.actor_optimizer.zero_grad()\n",
    "\t\t\tself.critic_optimizer.zero_grad()\n",
    "\t\t\tactor_loss.backward()\n",
    "\t\t\tcritic_loss.backward()\n",
    "\t\t\tself.actor_optimizer.step()\n",
    "\t\t\tself.critic_optimizer.step()"
   ]
  },
  {
   "cell_type": "code",
   "execution_count": 36,
   "metadata": {
    "ExecuteTime": {
     "end_time": "2023-08-30T03:42:15.371449600Z",
     "start_time": "2023-08-30T03:42:15.296067500Z"
    }
   },
   "outputs": [],
   "source": [
    "def train_on_policy_agent(env, agent, num_episodes):\n",
    "\treturn_list = []\n",
    "\tfor i in range(epochs):\n",
    "\t\twith tqdm(total=int(num_episodes / 10), desc='Iteration %d' % i) as pbar:\n",
    "\t\t\tfor i_episode in range(int(num_episodes / 10)):\n",
    "\t\t\t\tepisode_return = 0\n",
    "\t\t\t\ttransition_dict = {\"states\": [], \"actions\": [], \"next_states\": [], \"rewards\": [], \"dones\": []}\n",
    "\t\t\t\tstate = env.reset()\n",
    "\t\t\t\tdone = False\n",
    "\t\t\t\twhile not done:\n",
    "\t\t\t\t\taction = agent.take_action(state)\n",
    "\t\t\t\t\tnext_state, reward, done, _ = env.step(action)\n",
    "\n",
    "\t\t\t\t\ttransition_dict[\"states\"].append(state)\n",
    "\t\t\t\t\ttransition_dict[\"actions\"].append(action)\n",
    "\t\t\t\t\ttransition_dict[\"next_states\"].append(next_state)\n",
    "\t\t\t\t\ttransition_dict[\"rewards\"].append(reward)\n",
    "\t\t\t\t\ttransition_dict[\"dones\"].append(done)\n",
    "\t\t\t\t\tstate = next_state\n",
    "\t\t\t\t\tif -0.4 < next_state[0] < 0.5:\n",
    "\t\t\t\t\t    reward = 10 * (next_state[0] + 0.4) ** 3\n",
    "\t\t\t\t\telif next_state[0] >= 0.5:\n",
    "\t\t\t\t\t    reward = 100\n",
    "\t\t\t\t\telse:\n",
    "\t\t\t\t\t    reward = -0.1\n",
    "\t\t\t\t\tepisode_return += reward\n",
    "\t\t\t\treturn_list.append(episode_return)\n",
    "\t\t\t\tagent.update(transition_dict)\n",
    "\t\t\t\tif (i_episode + 1) % 10 == 0:\n",
    "\t\t\t\t\tpbar.set_postfix({'episode': '%d' % (num_episodes / 10 * i + i_episode + 1),\n",
    "\t\t\t\t\t                  'return': '%.3f' % np.mean(return_list[-10:]),\n",
    "                                      'reward': '%.3f' % reward})\n",
    "\t\t\t\tpbar.update(1)\n",
    "\treturn return_list"
   ]
  },
  {
   "cell_type": "code",
   "execution_count": 37,
   "metadata": {
    "ExecuteTime": {
     "end_time": "2023-08-30T03:42:16.148471100Z",
     "start_time": "2023-08-30T03:42:16.020812600Z"
    }
   },
   "outputs": [
    {
     "name": "stdout",
     "output_type": "stream",
     "text": [
      "device: cpu\n"
     ]
    }
   ],
   "source": [
    "actor_lr = 1e-3\n",
    "critic_lr = 1e-2\n",
    "num_episodes = 300\n",
    "hidden_dim = 128\n",
    "gamma = 0.98\n",
    "lambda_ = 0.95\n",
    "epochs = 10\n",
    "eps = 0.2\n",
    "\n",
    "device = th.device(\"cuda\") if th.cuda.is_available() else th.device(\"cpu\")\n",
    "env = gym.make(\"MountainCar-v0\")\n",
    "state_dim = env.observation_space.shape[0]\n",
    "action_dim = env.action_space.n\n",
    "ppo_agent = PPO(state_dim, hidden_dim, action_dim, actor_lr, critic_lr, lambda_, epochs, eps, gamma)\n",
    "\n",
    "print(f\"device: {device}\")"
   ]
  },
  {
   "cell_type": "code",
   "execution_count": 38,
   "metadata": {
    "ExecuteTime": {
     "end_time": "2023-08-30T03:43:11.993583600Z",
     "start_time": "2023-08-30T03:42:16.933430100Z"
    }
   },
   "outputs": [
    {
     "name": "stderr",
     "output_type": "stream",
     "text": [
      "Iteration 0:   0%|          | 0/30 [00:00<?, ?it/s]D:\\repo\\reinforcementlearning\\venv\\lib\\site-packages\\ipykernel_launcher.py:15: UserWarning: Creating a tensor from a list of numpy.ndarrays is extremely slow. Please consider converting the list to a single numpy.ndarray with numpy.array() before converting to a tensor. (Triggered internally at C:\\actions-runner\\_work\\pytorch\\pytorch\\builder\\windows\\pytorch\\torch\\csrc\\utils\\tensor_new.cpp:233.)\n",
      "  from ipykernel import kernelapp as app\n",
      "Iteration 0: 100%|██████████| 30/30 [00:06<00:00,  4.47it/s, episode=30, return=-14.530, reward=-0.100]\n",
      "Iteration 1: 100%|██████████| 30/30 [00:05<00:00,  5.09it/s, episode=60, return=-12.323, reward=0.001] \n",
      "Iteration 2: 100%|██████████| 30/30 [00:05<00:00,  5.19it/s, episode=90, return=-12.510, reward=0.000] \n",
      "Iteration 3: 100%|██████████| 30/30 [00:05<00:00,  5.15it/s, episode=120, return=-7.460, reward=0.008] \n",
      "Iteration 4: 100%|██████████| 30/30 [00:05<00:00,  5.49it/s, episode=150, return=-6.508, reward=0.020]\n",
      "Iteration 5: 100%|██████████| 30/30 [00:05<00:00,  5.74it/s, episode=180, return=-5.171, reward=0.109]\n",
      "Iteration 6: 100%|██████████| 30/30 [00:05<00:00,  5.91it/s, episode=210, return=-5.656, reward=0.126]\n",
      "Iteration 7: 100%|██████████| 30/30 [00:04<00:00,  6.34it/s, episode=240, return=-6.580, reward=0.019]\n",
      "Iteration 8: 100%|██████████| 30/30 [00:04<00:00,  6.01it/s, episode=270, return=-6.292, reward=0.009]\n",
      "Iteration 9: 100%|██████████| 30/30 [00:05<00:00,  5.70it/s, episode=300, return=-7.053, reward=0.000]\n"
     ]
    }
   ],
   "source": [
    "return_list = train_on_policy_agent(env, ppo_agent, num_episodes)"
   ]
  },
  {
   "cell_type": "code",
   "execution_count": 39,
   "metadata": {
    "ExecuteTime": {
     "end_time": "2023-08-30T03:43:13.845041100Z",
     "start_time": "2023-08-30T03:43:13.782209800Z"
    }
   },
   "outputs": [],
   "source": [
    "def sample_expert_data(n_episode):\n",
    "    states = []\n",
    "    actions = []\n",
    "    for episode in range(n_episode):\n",
    "        state = env.reset()\n",
    "        done = False\n",
    "        while not done:\n",
    "            action = ppo_agent.take_action(state)\n",
    "            states.append(state)\n",
    "            actions.append(action)\n",
    "            next_state, reward, done, _ = env.step(action)\n",
    "            state = next_state\n",
    "            if -0.4 < next_state[0] < 0.5:\n",
    "                reward = 10 * (next_state[0] + 0.4) ** 3\n",
    "            elif next_state[0] >= 0.5:\n",
    "                reward = 100\n",
    "            else:\n",
    "                reward = -0.1\n",
    "\n",
    "    return np.array(states), np.array(actions)"
   ]
  },
  {
   "cell_type": "code",
   "execution_count": 40,
   "metadata": {
    "ExecuteTime": {
     "end_time": "2023-08-30T03:43:14.793169400Z",
     "start_time": "2023-08-30T03:43:14.621999100Z"
    }
   },
   "outputs": [],
   "source": [
    "n_episode = 1\n",
    "expert_s, expert_a = sample_expert_data(n_episode)\n",
    "\n",
    "n_samples = 30  # 采样30个数据\n",
    "random_index = random.sample(range(expert_s.shape[0]), n_samples)\n",
    "expert_s = expert_s[random_index]\n",
    "expert_a = expert_a[random_index]"
   ]
  },
  {
   "cell_type": "markdown",
   "metadata": {},
   "source": [
    "## Step 2.行为克隆"
   ]
  },
  {
   "cell_type": "code",
   "execution_count": 41,
   "metadata": {
    "ExecuteTime": {
     "end_time": "2023-08-30T03:43:16.132991400Z",
     "start_time": "2023-08-30T03:43:16.052207700Z"
    }
   },
   "outputs": [],
   "source": [
    "class BehaviorClone:\n",
    "    def __init__(self, state_dim, hidden_dim, action_dim, lr):\n",
    "        self.policy = PolicyNet(state_dim, hidden_dim, action_dim).to(device)\n",
    "        self.optimizer = th.optim.Adam(self.policy.parameters(), lr=lr)\n",
    "\n",
    "    def learn(self, states, actions):\n",
    "        states = th.tensor(states, dtype=th.float).to(device)\n",
    "        actions = th.tensor(actions).view(-1, 1).to(device)\n",
    "        log_probs = th.log(self.policy(states).gather(1, actions.type(th.int64)))\n",
    "        bc_loss = th.mean(-log_probs)  # 最大似然估计\n",
    "\n",
    "        self.optimizer.zero_grad()\n",
    "        bc_loss.backward()\n",
    "        self.optimizer.step()\n",
    "\n",
    "    def take_action(self, state):\n",
    "        state = th.tensor([state], dtype=th.float).to(device)\n",
    "        probs = self.policy(state)\n",
    "        action_dist = th.distributions.Categorical(probs)\n",
    "        action = action_dist.sample()\n",
    "        return action.item()\n",
    "\n",
    "\n",
    "def test_agent(agent, env, n_episode):\n",
    "    return_list = []\n",
    "    for episode in range(n_episode):\n",
    "        episode_return = 0\n",
    "        state = env.reset()\n",
    "        done = False\n",
    "        while not done:\n",
    "            action = agent.take_action(state)\n",
    "            next_state, reward, done, _ = env.step(action)\n",
    "            state = next_state\n",
    "            if -0.4 < next_state[0] < 0.5:\n",
    "                reward = 10 * (next_state[0] + 0.4) ** 3\n",
    "            elif next_state[0] >= 0.5:\n",
    "                reward = 100\n",
    "            else:\n",
    "                reward = -0.1\n",
    "            episode_return += reward\n",
    "        return_list.append(episode_return)\n",
    "    return np.mean(return_list)"
   ]
  },
  {
   "cell_type": "code",
   "execution_count": 42,
   "metadata": {
    "ExecuteTime": {
     "end_time": "2023-08-30T03:47:06.042352900Z",
     "start_time": "2023-08-30T03:43:17.764238Z"
    }
   },
   "outputs": [
    {
     "name": "stderr",
     "output_type": "stream",
     "text": [
      "进度条: 100%|██████████| 500/500 [03:48<00:00,  2.19it/s, return=-5.391]\n"
     ]
    }
   ],
   "source": [
    "lr = 1e-3\n",
    "bc_agent = BehaviorClone(state_dim, hidden_dim, action_dim, lr)\n",
    "n_iterations = 500\n",
    "batch_size = 32\n",
    "test_returns = []\n",
    "\n",
    "with tqdm(total=n_iterations, desc=\"进度条\") as pbar:\n",
    "    for i in range(n_iterations):\n",
    "        sample_indices = np.random.randint(low=0, high=expert_s.shape[0], size=batch_size)\n",
    "        bc_agent.learn(expert_s[sample_indices], expert_a[sample_indices])\n",
    "        current_return = test_agent(bc_agent, env, 5)\n",
    "        test_returns.append(current_return)\n",
    "        if (i + 1) % 10 == 0:\n",
    "            pbar.set_postfix({'return': '%.3f' % np.mean(test_returns[-10:])})\n",
    "        pbar.update(1)"
   ]
  },
  {
   "cell_type": "code",
   "execution_count": 43,
   "metadata": {
    "ExecuteTime": {
     "end_time": "2023-08-30T03:47:27.174431900Z",
     "start_time": "2023-08-30T03:47:26.915935700Z"
    }
   },
   "outputs": [
    {
     "data": {
      "text/plain": "<Figure size 640x480 with 1 Axes>",
      "image/png": "[encoded data removed]"
     },
     "metadata": {},
     "output_type": "display_data"
    }
   ],
   "source": [
    "iteration_list = list(range(len(test_returns)))\n",
    "plt.plot(iteration_list, test_returns)\n",
    "plt.xlabel('Iterations')\n",
    "plt.ylabel('Returns')\n",
    "plt.title(\"Behavior Clonning\")\n",
    "plt.show()"
   ]
  },
  {
   "cell_type": "markdown",
   "metadata": {},
   "source": [
    "## Step 3.生成对抗模仿学习"
   ]
  },
  {
   "cell_type": "code",
   "execution_count": 44,
   "metadata": {
    "ExecuteTime": {
     "end_time": "2023-08-30T03:47:29.166918500Z",
     "start_time": "2023-08-30T03:47:29.080150800Z"
    }
   },
   "outputs": [],
   "source": [
    "class Discriminator(nn.Module):\n",
    "    def __init__(self, state_dim, hidden_dim, action_dim):\n",
    "        super(Discriminator, self).__init__()\n",
    "        self.fc1 = th.nn.Linear(state_dim + action_dim, hidden_dim)\n",
    "        self.fc2 = th.nn.Linear(hidden_dim, 1)\n",
    "\n",
    "    def forward(self, x, a):\n",
    "        cat = th.cat([x, a], dim=1)\n",
    "        x = F.relu(self.fc1(cat))\n",
    "        return th.sigmoid(self.fc2(x))"
   ]
  },
  {
   "cell_type": "code",
   "execution_count": 45,
   "metadata": {
    "ExecuteTime": {
     "end_time": "2023-08-30T03:47:29.750767Z",
     "start_time": "2023-08-30T03:47:29.709847900Z"
    }
   },
   "outputs": [],
   "source": [
    "class GAIL:\n",
    "    def __init__(self, agent, state_dim, action_dim, hidden_dim, lr_d):\n",
    "        self.discriminator = Discriminator(state_dim, hidden_dim, action_dim).to(device)\n",
    "        self.discriminator_optimizer = th.optim.Adam(self.discriminator.parameters(), lr=lr_d)\n",
    "        self.agent = agent\n",
    "\n",
    "    def learn(self, expert_s, expert_a, agent_s, agent_a, next_s, dones):\n",
    "        expert_states = th.tensor(expert_s, dtype=th.float).to(device)\n",
    "        expert_actions = th.tensor(expert_a, dtype=th.int64).to(device)\n",
    "        agent_states = th.tensor(agent_s, dtype=th.float).to(device)\n",
    "        agent_actions = th.tensor(agent_a, dtype=th.int64).to(device)\n",
    "        expert_actions = F.one_hot(expert_actions, num_classes=3).float()\n",
    "        agent_actions = F.one_hot(agent_actions, num_classes=3).float()\n",
    "\n",
    "        expert_prob = self.discriminator(expert_states, expert_actions)\n",
    "        agent_prob = self.discriminator(agent_states, agent_actions)\n",
    "        discriminator_loss = nn.BCELoss()(agent_prob, th.ones_like(agent_prob)) + nn.BCELoss()(expert_prob, th.zeros_like(expert_prob))\n",
    "        self.discriminator_optimizer.zero_grad()\n",
    "        discriminator_loss.backward()\n",
    "        self.discriminator_optimizer.step()\n",
    "\n",
    "        rewards = -th.log(agent_prob).detach().cpu().numpy()\n",
    "        transition_dict = {\n",
    "            'states': agent_s,\n",
    "            'actions': agent_a,\n",
    "            'rewards': rewards,\n",
    "            'next_states': next_s,\n",
    "            'dones': dones\n",
    "        }\n",
    "        self.agent.update(transition_dict)"
   ]
  },
  {
   "cell_type": "code",
   "execution_count": 46,
   "metadata": {
    "ExecuteTime": {
     "end_time": "2023-08-30T03:48:42.142727100Z",
     "start_time": "2023-08-30T03:47:30.308976700Z"
    }
   },
   "outputs": [
    {
     "name": "stderr",
     "output_type": "stream",
     "text": [
      "进度条:  18%|█▊        | 89/500 [00:14<00:58,  6.98it/s, return=-7.506] D:\\repo\\reinforcementlearning\\venv\\lib\\site-packages\\gym\\core.py:50: DeprecationWarning: \u001B[33mWARN: You are calling render method, but you didn't specified the argument render_mode at environment initialization. To maintain backward compatibility, the environment will render in human mode.\n",
      "If you want to render in human mode, initialize the environment in this way: gym.make('EnvName', render_mode='human') and don't call the render method.\n",
      "See here for more information: https://www.gymlibrary.ml/content/api/\u001B[0m\n",
      "  \"You are calling render method, \"\n",
      "进度条: 100%|██████████| 500/500 [01:11<00:00,  6.96it/s, return=-5.726]\n"
     ]
    }
   ],
   "source": [
    "lr_d = 1e-3\n",
    "agent = PPO(state_dim, hidden_dim, action_dim, actor_lr, critic_lr, lambda_, epochs, eps, gamma)\n",
    "gail = GAIL(agent, state_dim, action_dim, hidden_dim, lr_d)\n",
    "n_episode = 500\n",
    "return_list = []\n",
    "\n",
    "with tqdm(total=n_episode, desc=\"进度条\") as pbar:\n",
    "    for i in range(n_episode):\n",
    "        episode_return = 0\n",
    "        state = env.reset()\n",
    "        done = False\n",
    "        state_list = []\n",
    "        action_list = []\n",
    "        next_state_list = []\n",
    "        done_list = []\n",
    "        while not done:\n",
    "            action = agent.take_action(state)\n",
    "            next_state, reward, done, _ = env.step(action)\n",
    "            state_list.append(state)\n",
    "            action_list.append(action)\n",
    "            next_state_list.append(next_state)\n",
    "            done_list.append(done)\n",
    "            state = next_state\n",
    "            if -0.4 < next_state[0] < 0.5:\n",
    "                reward = 10 * (next_state[0] + 0.4) ** 3\n",
    "            elif next_state[0] >= 0.5:\n",
    "                reward = 100\n",
    "            else:\n",
    "                reward = -0.1\n",
    "            episode_return += reward\n",
    "\n",
    "        return_list.append(episode_return)\n",
    "        gail.learn(expert_s, expert_a, state_list, action_list, next_state_list, done_list)\n",
    "        if np.mean(return_list[-10:]) >= -6:\n",
    "            env.render()\n",
    "        if (i + 1) % 10 == 0:\n",
    "            pbar.set_postfix({'return': '%.3f' % np.mean(return_list[-10:])})\n",
    "        pbar.update(1)"
   ]
  },
  {
   "cell_type": "code",
   "execution_count": 46,
   "outputs": [],
   "source": [],
   "metadata": {
    "collapsed": false,
    "ExecuteTime": {
     "end_time": "2023-08-30T03:48:54.388965200Z",
     "start_time": "2023-08-30T03:48:54.347634200Z"
    }
   }
  },
  {
   "cell_type": "code",
   "execution_count": 47,
   "metadata": {
    "ExecuteTime": {
     "end_time": "2023-08-30T03:48:54.971139400Z",
     "start_time": "2023-08-30T03:48:54.732068Z"
    }
   },
   "outputs": [
    {
     "data": {
      "text/plain": "<Figure size 640x480 with 1 Axes>",
      "image/png": "[encoded data removed]"
     },
     "metadata": {},
     "output_type": "display_data"
    }
   ],
   "source": [
    "iteration_list = list(range(len(return_list)))\n",
    "plt.plot(iteration_list, return_list)\n",
    "plt.xlabel(\"Episodes\")\n",
    "plt.ylabel(\"Returns\")\n",
    "plt.title(\"GAIL\")\n",
    "plt.show()"
   ]
  },
  {
   "cell_type": "code",
   "execution_count": 17,
   "metadata": {},
   "outputs": [],
   "source": []
  }
 ],
 "metadata": {
  "kernelspec": {
   "display_name": "Python 3 (ipykernel)",
   "language": "python",
   "name": "python3"
  },
  "language_info": {
   "codemirror_mode": {
    "name": "ipython",
    "version": 3
   },
   "file_extension": ".py",
   "mimetype": "text/x-python",
   "name": "python",
   "nbconvert_exporter": "python",
   "pygments_lexer": "ipython3",
   "version": "3.9.7"
  }
 },
 "nbformat": 4,
 "nbformat_minor": 1
}
